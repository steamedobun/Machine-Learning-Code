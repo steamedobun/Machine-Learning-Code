{
 "cells": [
  {
   "cell_type": "markdown",
   "source": [
    "# 贝叶斯网络应用\n",
    "贝叶斯网络(Bayesian network)，又称为信念网络(Belief network) ，是一种通过有向无环图(Directed acyclic graph, DAG)表示一组随机变量及其条件依赖概率的概率图模型。\n",
    "概率图中，节点表示随机变量，有向边表示随机变量间的依赖关系，条件概率表示依赖关系的强度。没有父节点的节点用先验概率表达信息。两个节点若无连接则表示相互独立的随机变量。\n",
    "贝叶斯网络中的节点可以表示任意问题，丰富的概率表达能力使能较好地处理不确定性信息或问题。贝叶斯网络中所有节点都是可见的，并且节点间的因果关系可以非常直观地观察到。这些特性都使得贝叶斯网络在众多智能系统中有相当重要的应用。\n"
   ],
   "metadata": {
    "collapsed": false
   },
   "id": "7017ac98e519dbfa"
  },
  {
   "cell_type": "markdown",
   "source": [
    "## 数据分析\n",
    "互联网金融在为金融机构和用户提供诸多便利的同时，也存在着信用风险和欺诈问题。\n",
    "自2013年年底以来，我国商业银行的贷款率一直偏高。由于我国商业银行个人信贷的部分业务不需要提供担保和抵押，因此个人信贷业务面临较大的信用风险。\n",
    "个人信贷的信用风险，是网络个人信贷机构和出借人面临的重要风险。个人信贷背景下的信用风险的危害性日益凸显，违约事件背后产生的道德风险也比较普遍。这不仅给信贷机构造成损失，同时也可能导致借贷市场运行效率低下。\n",
    "因此，金融机构急需通过必要的手段来提高信用风险控制的水平。\n",
    "信贷机构出借资金给贷款人前，会对贷款人的基本信息和以前的信用状况进行收集，以评估贷款人是否有贷款资格以及贷款额度的上限值，因此信贷机构会积累贷款人的大量基本信息。\n",
    "本案例中将某贷款机构脱敏后的历史业务数据作为原始数据，在海量的个人信用历史和信息行为的数据基础，采用机器学习技术得出信用模式，能更加准确地预测个人未来的信用表现，能够提高操作的效率，降低授信成本，精确估计消费信贷的风险，为金融机构进行风险预测提供重要的工具。\n",
    "![1](assets/img.png)"
   ],
   "metadata": {
    "collapsed": false
   },
   "id": "a0c2257f9a9e8c81"
  },
  {
   "cell_type": "markdown",
   "source": [
    "## 数据处理\n",
    "先对12个表格做预处理（table_i.csv），处理后合并表格（train_data_all.csv），再对合并后的表格进行预处理（train_data_final.csv），可以得到用于建立模型的最终数据。"
   ],
   "metadata": {
    "collapsed": false
   },
   "id": "71fde12086c3ca3d"
  },
  {
   "cell_type": "code",
   "execution_count": 32,
   "outputs": [],
   "source": [
    "import pandas as pd\n",
    "import numpy as np\n",
    "import matplotlib.pyplot as plt\n",
    "import os"
   ],
   "metadata": {
    "collapsed": false,
    "ExecuteTime": {
     "end_time": "2023-11-19T08:13:36.769094800Z",
     "start_time": "2023-11-19T08:13:36.627097300Z"
    }
   },
   "id": "a6b2d66f2148b2ee"
  },
  {
   "cell_type": "code",
   "execution_count": 33,
   "outputs": [],
   "source": [
    "src_dir = r\"dataset\"\n",
    "data_dir = os.path.join(src_dir, '原始数据')"
   ],
   "metadata": {
    "collapsed": false,
    "ExecuteTime": {
     "end_time": "2023-11-19T08:13:36.897095600Z",
     "start_time": "2023-11-19T08:13:36.641098400Z"
    }
   },
   "id": "26c16e91b0934437"
  },
  {
   "cell_type": "markdown",
   "source": [
    "### 数据表处理"
   ],
   "metadata": {
    "collapsed": false
   },
   "id": "91e79c6ca211a98f"
  },
  {
   "cell_type": "code",
   "execution_count": 34,
   "outputs": [],
   "source": [
    "def process(data_dir, src_data='train data.tsv', tar_data='train data process.tsv'):\n",
    "    \"\"\"\n",
    "    新字段\n",
    "    缺失值\n",
    "    值标注\n",
    "    独热编码\n",
    "    异常值\n",
    "    标准化\n",
    "    重置索引\n",
    "    保存结果\n",
    "    :param data_dir: \n",
    "    :param src_data: \n",
    "    :param tar_data: \n",
    "    :return: \n",
    "    \"\"\"\n",
    "    dataset = pd.read_csv(os.path.join(data_dir, src_data), sep=\"\\t\", header=0)\n",
    "    # gender字段(根据身份证获取性别 1 男 0 女)\n",
    "    dataset['gender'] = list(map(lambda x: 1\n",
    "    if int(str(x)[-2]) % 2 == 1 else 0, dataset['ID_CARD']))\n",
    "    # LOAN_DAYS\n",
    "    # 找一个给定日期，得到距离该日期的天数，作为变量:贷款时间\n",
    "    # 不会说，月初和月未贷款有一定的差异性，因为发工资一般是在月初\n",
    "    due_date = pd.to_datetime(\"2017/12/31\")\n",
    "    dataset[\"LOAN_DATE\"] = pd.to_datetime(dataset[\"LOAN_DATE\"])\n",
    "    dataset[\"LOAN_DAYS\"] = list(\n",
    "        map(lambda x: (due_date - x).days, dataset[\"LOAN_DATE\"]))\n",
    "\n",
    "    # 值标注\n",
    "    # 用字典对特征类别进行标注\n",
    "    is_local_repalce_dict = {'本地籍': \"0\", \"非本地籍\": \"1\"}\n",
    "    dataset[\"IS_LOCAL\"] = dataset[\"IS_LOCAL\"].map(is_local_repalce_dict)\n",
    "    marry_status_dict = {\"已婚\": \"0\", \"未婚\": \"1\", \"离异\": \"2\", \"离婚\": \"2\", \"其他\": \"4\", \"丧偶\": \"5\"}\n",
    "    dataset[\"MARRY_STATUS\"] = dataset[\"MARRY_STATUS\"].map(marry_status_dict)\n",
    "    edu_level_dict = {\"初中\": 0, \"高中\": 1, \"专科及以下\": 2, \"专科\": 2, \"本科\": 3,\n",
    "                      \"硕士研究生\": 4, \"博士研究生\": 4, \"硕士及以上\": 4, \"其他\": 5}\n",
    "    if dataset[\"EDU_LEVEL\"].dtype != \"float64\":\n",
    "        dataset[\"EDU_LEVEL\"] = dataset[\"EDU_LEVEL\"].map(edu_level_dict)\n",
    "\n",
    "    # 缺失值\n",
    "    # WORK PROVINCE字段: 归并到“省”(同时实现 维归约)\n",
    "    # 如110000，11表示省，00，表示市，00 表示区\n",
    "    # 处理方法:\n",
    "    # (1)字段非空，取前2位(float->str)\n",
    "    # (2)字段缺失，按ID_CARD字段前2位(str)\n",
    "    province = list(map(lambda x, y: y[:2] if np.isnan(x) else str(x)[:2],\n",
    "                        dataset['WORK_PROVINCE'], dataset['ID_CARD']))\n",
    "    dataset['WORK_PROVINCE'] = province\n",
    "    dataset.drop(\"ID_CARD\", axis=1, inplace=True)\n",
    "\n",
    "    # 独热编码\n",
    "    # train_data与test data在AGENT字段取值不同，影响独热编码结果\n",
    "    # train_data有5个样本，test_data有340个样本\n",
    "    filt_list = ['朋友推荐', '搜索引擎', '应用商店', '社交软件平台',\n",
    "                 '收到邮件或短信', '第三方贷款平台', '其他', 'DDH_SYNC',\n",
    "                 '新闻资讯平台', 'orgloan', 'weijinhui']\n",
    "    dataset = dataset.loc[[\n",
    "                              True if x not in filt_list else False for x in dataset['AGENT']], :]\n",
    "    dataset_part = pd.get_dummies(dataset.loc[:, [\n",
    "                                                     \"AGENT\", \"IS_LOCAL\", \"WORK_PROVINCE\", \"MARRY_STATUS\"]],\n",
    "                                  drop_first=True)\n",
    "    dataset[dataset_part.columns] = dataset_part\n",
    "    if 'AGENT' in dataset.columns:\n",
    "        dataset.drop(['AGENT', 'IS_LOCAL', 'WORK_PROVINCE', 'MARRY_STATUS'], axis=1, inplace=True)\n",
    "\n",
    "    # 异常值处理\n",
    "    # 可能出现异常值dataset['SALARY']\n",
    "    dataset['SALARY'].describe()\n",
    "\n",
    "    # 没有异常值\n",
    "\n",
    "    # 标准化\n",
    "    def scalar(series):\n",
    "        \"\"\"\n",
    "        标准化\n",
    "        :param series: \n",
    "        :return: \n",
    "        \"\"\"\n",
    "        theMean = series.mean()\n",
    "        theStd = series.std()\n",
    "        return series.map(lambda x: (x - theMean) / theStd)\n",
    "\n",
    "    # SALARY LOAN_DAYS EDU_LEVEL\n",
    "    dataset['SALARY'] = scalar(dataset['SALARY'])\n",
    "    dataset['LOAN_DAYS'] = scalar(dataset['LOAN_DAYS'])\n",
    "    dataset['EDU_LEVEL'] = scalar(dataset['EDU_LEVEL'])\n",
    "\n",
    "    # 重置索引\n",
    "    dataset.index = dataset.REPORT_ID\n",
    "    del dataset['REPORT_ID']\n",
    "\n",
    "    # 当前数据集\n",
    "    print(dataset.head())\n",
    "\n",
    "    # 保存结果\n",
    "    dataset.to_csv(os.path.join(data_dir, tar_data))"
   ],
   "metadata": {
    "collapsed": false,
    "ExecuteTime": {
     "end_time": "2023-11-19T08:13:36.903096200Z",
     "start_time": "2023-11-19T08:13:36.656098900Z"
    }
   },
   "id": "6ceed19b2560f493"
  },
  {
   "cell_type": "markdown",
   "source": [
    "### 其他数据表"
   ],
   "metadata": {
    "collapsed": false
   },
   "id": "16324124b7152a21"
  },
  {
   "cell_type": "code",
   "execution_count": 35,
   "outputs": [],
   "source": [
    "def process_2(data_dir, src_data='contest_ext_crd_hd_report.csv', tar_data='table_2.csv'):\n",
    "    \"\"\"\n",
    "    其他数据表处理\n",
    "    :param data_dir: \n",
    "    :param src_data: \n",
    "    :param tar_data: \n",
    "    :return: \n",
    "    \"\"\"\n",
    "    # table_2\n",
    "    table_2 = pd.read_csv(os.path.join(data_dir, src_data), sep=',')\n",
    "    table_2.columns = [str.lower(i) for i in table_2.columns]\n",
    "    # 子集1\n",
    "    query_reason_dict = {'担保资格审查': '1', '贷款审批': '2', '贷后管理': '3'}\n",
    "    table_2['query_reason'] = table_2['query_reason'].map(query_reason_dict)\n",
    "    type_dw_dummy = pd.get_dummies(table_2[['report_id', 'query_reason']])\n",
    "    df_query_reason = type_dw_dummy.groupby('report_id').mean()\n",
    "    df_query_reason.columns = ['report' + i for i in df_query_reason.columns]\n",
    "    # 子集2\n",
    "    query_org_dummy = pd.get_dummies(table_2[['report_id', 'query_org']])\n",
    "    df_query_org_dummy = query_org_dummy.groupby('report_id').mean()\n",
    "    df_query_org_dummy.columns = ['report ' + i for i in df_query_org_dummy.columns]\n",
    "    # 合并\n",
    "    table_2_merge = pd.merge(df_query_reason, df_query_org_dummy,\n",
    "                             left_index=True, right_index=True)\n",
    "    # 保存结果\n",
    "    table_2_merge.to_csv(os.path.join(data_dir, tar_data))"
   ],
   "metadata": {
    "collapsed": false,
    "ExecuteTime": {
     "end_time": "2023-11-19T08:13:36.945095700Z",
     "start_time": "2023-11-19T08:13:36.669095900Z"
    }
   },
   "id": "beec39e21fae14c4"
  },
  {
   "cell_type": "code",
   "execution_count": 36,
   "outputs": [],
   "source": [
    "from sklearn.preprocessing import StandardScaler\n",
    "from sklearn.impute import SimpleImputer"
   ],
   "metadata": {
    "collapsed": false,
    "ExecuteTime": {
     "end_time": "2023-11-19T08:13:36.945095700Z",
     "start_time": "2023-11-19T08:13:36.687098100Z"
    }
   },
   "id": "8234b7b1508df45f"
  },
  {
   "cell_type": "code",
   "execution_count": 37,
   "outputs": [],
   "source": [
    "# table_3.csv\n",
    "def process_3(data_dir,\n",
    "              src_data='contest_ext_crd_cd_ln.tsv', tar_data='table_3.csv'):\n",
    "    # table_3\n",
    "    table_3 = pd.read_csv(os.path.join(data_dir, src_data), sep='\\t')\n",
    "    # table_3.shape\n",
    "    # table_3.head()\n",
    "\n",
    "    # 值标注\n",
    "    # table_3['state'].value_counts()\n",
    "    state_dict = {'结清': 'JQ', '逾期': 'YQ', '正常': 'NM', '呆账': 'DZ',\n",
    "                  '转出': 'ZC', '销户': 'XH', '冻结': 'FZ', '止付': 'EP',\n",
    "                  '未激活': 'IA'}\n",
    "    table_3['state'] = table_3['state'].map(state_dict)\n",
    "    # table_3['type_dw'].value_counts()\n",
    "    type_dw_dict = {'个人经营性贷款': 'PBL', '个人汽车贷款': 'PAL',\n",
    "                    '个人商用房（包括商住两用）贷款': 'PCHL', '个人消费贷款': 'PCL',\n",
    "                    '个人住房贷款': 'PHL', '个人住房公积金贷款': 'IHL',\n",
    "                    '个人助学贷款': 'ILE', '农户贷款': 'FL', '其他贷款': 'OTHERS'}\n",
    "    table_3['type_dw'] = table_3['type_dw'].map(type_dw_dict)\n",
    "    # table_3['guarantee_type'].value_counts()\n",
    "    guarantee_type_dict = {'保证': 'G', '抵押担保': 'G_US', '农户联保': 'G_PL',\n",
    "                           '其他担保': 'G_OTHERS', '信用/免担保': 'G_NG',\n",
    "                           '信用免担保': 'G_NG', '质押（含保证金）担保': 'G_PG_IM',\n",
    "                           '组合（不含保证）担保': 'G_CG_WW',\n",
    "                           '组合（含保证）担保': 'G_CG_IW'}\n",
    "    table_3['guarantee_type'] = table_3['guarantee_type'].map(\n",
    "        guarantee_type_dict)\n",
    "    # table_3['payment_rating'].value_counts()\n",
    "    payment_rating_dict = {'按半年归还': 'P_H', '按季归还': 'P_S', '按年归还': 'P_Y',\n",
    "                           '按其他方式归还': 'P_OHTERS', '按日归还': 'P_D',\n",
    "                           '按月归还': 'P_M', '按周归还': 'P_W', '不定期归还': 'P_U',\n",
    "                           '一次性归还': 'P_O'}\n",
    "    table_3['payment_rating'] = table_3['payment_rating'].map(\n",
    "        payment_rating_dict)\n",
    "    # table_3['class5_state'].value_counts()\n",
    "    class5_state_dict = {'次级': 'C_I', '关注': 'C_F',\n",
    "                         '可疑': 'C_D', '未知': 'C_U', '正常': 'C_N'}\n",
    "    table_3['class5_state'] = table_3['class5_state'].map(class5_state_dict)\n",
    "    # 只划分两种\n",
    "    # table_3['currency'].value_counts()\n",
    "    table_3['currency'] = list(\n",
    "        map(lambda x: 1 if x == '人民币' else 0, table_3['currency']))\n",
    "\n",
    "    # 归并到report id\n",
    "    # table_3.isnull().sum()\n",
    "\n",
    "    # 独热编码\n",
    "    # 子集1\n",
    "    state_dummy = pd.get_dummies(table_3[['report_id', 'state']])\n",
    "    df_state = state_dummy.groupby('report_id').mean()\n",
    "    # 子集2\n",
    "    type_dw_dummy = pd.get_dummies(table_3[['report_id', 'type_dw']])\n",
    "    df_type_dw = type_dw_dummy.groupby('report_id').mean()\n",
    "    # 子集3\n",
    "    guarantee_type_dummy = pd.get_dummies(\n",
    "        table_3[['report_id', 'guarantee_type']])\n",
    "    df_guarantee_type = guarantee_type_dummy.groupby('report_id').mean()\n",
    "    # 子集4\n",
    "    payment_rating_dummy = pd.get_dummies(\n",
    "        table_3[['report_id', 'payment_rating']])\n",
    "    df_payment_rating = payment_rating_dummy.groupby('report_id').mean()\n",
    "    # 子集5\n",
    "    # 注意，行和不唯一是因为有缺失值，缺失值在转换为虚拟变量时全变成了0\n",
    "    class5_state_dummy = pd.get_dummies(table_3[['report_id', 'class5_state']])\n",
    "    df_class5_state = class5_state_dummy.groupby('report_id').mean()\n",
    "    # 子集6\n",
    "    df_continuous = table_3.loc[:, ['report_id', 'payment_cyc',\n",
    "                                    'credit_limit_amount', 'balance',\n",
    "                                    'remain_payment_cyc',\n",
    "                                    'scheduled_payment_amount',\n",
    "                                    'actual_payment_amount', 'curr_overdue_cyc',\n",
    "                                    'curr_overdue_amount']]\n",
    "    df_continuous_mean = df_continuous.groupby('report_id').mean()\n",
    "    # 子集6：标准化+缺失值处理\n",
    "    ss = StandardScaler()\n",
    "    columns = df_continuous_mean.columns\n",
    "    indexs = df_continuous_mean.index\n",
    "    # 当前sklearn版本：Imputer -> SimpleImputer # Nan -> np.nan # , axis=0\n",
    "    imr = SimpleImputer(missing_values=np.nan, strategy='mean')\n",
    "    df_continuous_mean = pd.DataFrame(ss.fit_transform(\n",
    "        imr.fit_transform(df_continuous_mean.values)))\n",
    "    df_continuous_mean.columns = columns\n",
    "    df_continuous_mean.index = indexs\n",
    "    # 子集7\n",
    "    # df_currency = table_3.loc[:, ['report_id', 'currency']]\\\n",
    "    #     .groupby('report_id').mean()\n",
    "    # (df_currency != 1)['currency'].value_counts()# 全为1， 无意义\n",
    "    # 子集8\n",
    "    df_count = table_3.loc[:, ['report_id', 'payment_rating']].groupby(\n",
    "        'report_id').count()\n",
    "    df_count.columns = ['loan_count']\n",
    "\n",
    "    # 合并子集\n",
    "    table_3 = pd.merge(df_state, df_type_dw, left_index=True, right_index=True)\n",
    "    table_3 = pd.merge(table_3, df_guarantee_type,\n",
    "                       left_index=True, right_index=True)\n",
    "    table_3 = pd.merge(table_3, df_payment_rating,\n",
    "                       left_index=True, right_index=True)\n",
    "    table_3 = pd.merge(table_3, df_class5_state,\n",
    "                       left_index=True, right_index=True)\n",
    "    table_3 = pd.merge(table_3, df_continuous_mean,\n",
    "                       left_index=True, right_index=True)\n",
    "    table_3 = pd.merge(table_3, df_count, left_index=True, right_index=True)\n",
    "\n",
    "    # 保存结果\n",
    "    table_3.to_csv(os.path.join(data_dir, tar_data))"
   ],
   "metadata": {
    "collapsed": false,
    "ExecuteTime": {
     "end_time": "2023-11-19T08:13:36.946096Z",
     "start_time": "2023-11-19T08:13:36.711095700Z"
    }
   },
   "id": "a4268005739f8656"
  },
  {
   "cell_type": "code",
   "execution_count": 38,
   "outputs": [],
   "source": [
    "# table_4.csv\n",
    "def process_4(data_dir,\n",
    "              src_data='contest_ext_crd_cd_lnd.tsv', tar_data='table_4.csv'):\n",
    "    # table_4\n",
    "    table_4 = pd.read_csv(os.path.join(data_dir, src_data), sep='\\t')\n",
    "    # table_4.loc[:, ['state', 'currency', 'guarantee_type', 'cardtype']].head()\n",
    "    # table_4.loc[:, ['credit_limit_amount', 'share_credit_limit_amount', 'used_credit_limit_amount', 'latest6_month_used_avg_amount',\n",
    "    #                 'used_highest_amount', 'scheduled_payment_amount', 'actual_payment_amount', 'curr_overdue_cyc', 'curr_overdue_amount']].head()\n",
    "\n",
    "    # 值标注\n",
    "    state_dict = {'结清': 'JQ', '逾期': 'YQ', '正常': 'NM', '呆账': 'DZ',\n",
    "                  '转出': 'ZC', '销户': 'XH', '冻结': 'FZ', '止付': 'EP',\n",
    "                  '未激活': 'IA'}\n",
    "    table_4['state'] = table_4['state'].map(state_dict)\n",
    "    guarantee_type_dict = {'保证': 'G', '抵押担保': 'G_US', '农户联保': 'G_PL',\n",
    "                           '其他担保': 'G_OTHERS', '信用/免担保': 'G_NG',\n",
    "                           '信用免担保': 'G_NG', '质押（含保证金）担保': 'G_PG_IM',\n",
    "                           '组合（不含保证）担保': 'G_CG_WW',\n",
    "                           '组合（含保证）担保': 'G_CG_IW'}\n",
    "    table_4['guarantee_type'] = table_4['guarantee_type'].map(\n",
    "        guarantee_type_dict)\n",
    "    table_4['currency'] = list(\n",
    "        map(lambda x: 1 if x == '人民币' else 0, table_4['currency']))\n",
    "\n",
    "    # 独热编码\n",
    "    # （1）\n",
    "    state_dummy = pd.get_dummies(table_4[['report_id', 'state']])\n",
    "    df_state = state_dummy.groupby('report_id').mean()\n",
    "    df_state.columns = ['ind_' + i for i in df_state.columns]\n",
    "    # （2）\n",
    "    guarantee_type_dummy = pd.get_dummies(\n",
    "        table_4[['report_id', 'guarantee_type']])\n",
    "    df_guarantee_type = guarantee_type_dummy.groupby('report_id').mean()\n",
    "    df_guarantee_type.columns = ['ind_' + i for i in df_guarantee_type.columns]\n",
    "    # （3）\n",
    "    df_count = table_4.loc[:, ['report_id', 'state']\n",
    "               ].groupby('report_id').count()\n",
    "    df_count.columns = ['loan_count']\n",
    "    # （4）\n",
    "    currency_dummy = table_4[['report_id', 'currency']]\n",
    "    df_currency = currency_dummy.groupby('report_id').mean()\n",
    "    df_currency.columns = ['ind_' + i for i in df_currency.columns]\n",
    "    # （5）\n",
    "    df_continuous = table_4.loc[:,\n",
    "                    ['report_id', 'credit_limit_amount',\n",
    "                     'share_credit_limit_amount',\n",
    "                     'used_credit_limit_amount',\n",
    "                     'latest6_month_used_avg_amount',\n",
    "                     'used_highest_amount', 'scheduled_payment_amount',\n",
    "                     'actual_payment_amount', 'curr_overdue_cyc',\n",
    "                     'curr_overdue_amount']]\n",
    "    df_continuous_mean = df_continuous.groupby('report_id').mean()\n",
    "    ss = StandardScaler()\n",
    "    columns = df_continuous_mean.columns\n",
    "    indexs = df_continuous_mean.index\n",
    "    imr = SimpleImputer(missing_values=np.nan, strategy='mean')\n",
    "    df_continuous_mean = pd.DataFrame(ss.fit_transform(\n",
    "        imr.fit_transform(df_continuous_mean.values)))\n",
    "    df_continuous_mean.columns = columns\n",
    "    df_continuous_mean.index = indexs\n",
    "\n",
    "    # 合并子集\n",
    "    table_4 = pd.merge(df_state, df_guarantee_type,\n",
    "                       left_index=True, right_index=True)\n",
    "    table_4 = pd.merge(table_4, df_count, left_index=True, right_index=True)\n",
    "    table_4 = pd.merge(table_4, df_currency, left_index=True, right_index=True)\n",
    "    table_4 = pd.merge(table_4, df_continuous_mean,\n",
    "                       left_index=True, right_index=True)\n",
    "\n",
    "    # 保存结果\n",
    "    table_4.to_csv(os.path.join(data_dir, tar_data))"
   ],
   "metadata": {
    "collapsed": false,
    "ExecuteTime": {
     "end_time": "2023-11-19T08:13:36.946096Z",
     "start_time": "2023-11-19T08:13:36.737096500Z"
    }
   },
   "id": "5b1a81f20d615bc8"
  },
  {
   "cell_type": "code",
   "execution_count": 39,
   "outputs": [],
   "source": [
    "# table_5.csv\n",
    "def process_5(data_dir,\n",
    "              src_data='contest_ext_crd_is_creditcue.csv', tar_data='table_5.csv'):\n",
    "    # table_5\n",
    "    table_5 = pd.read_csv(os.path.join(data_dir, src_data), sep=',')\n",
    "    table_5.columns = [str.lower(i) for i in table_5.columns]  # 字符转化为小写\n",
    "    # 子集\n",
    "    df_continuous_mean = table_5.loc[:,\n",
    "                         ['house_loan_count', 'commercial_loan_count',\n",
    "                          'other_loan_count', 'loancard_count',\n",
    "                          'standard_loancard_count', 'announce_count',\n",
    "                          'dissent_count']]\n",
    "    df_continuous_mean.index = table_5['report_id']\n",
    "    ss = StandardScaler()\n",
    "    columns = df_continuous_mean.columns\n",
    "    indexs = df_continuous_mean.index\n",
    "    imr = SimpleImputer(missing_values=np.nan, strategy='mean')\n",
    "    df_continuous_mean = pd.DataFrame(ss.fit_transform(\n",
    "        imr.fit_transform(df_continuous_mean.values)))\n",
    "    df_continuous_mean.columns = columns\n",
    "    df_continuous_mean.index = indexs\n",
    "    # 保存结果\n",
    "    df_continuous_mean.to_csv(os.path.join(data_dir, tar_data))"
   ],
   "metadata": {
    "collapsed": false,
    "ExecuteTime": {
     "end_time": "2023-11-19T08:13:36.946096Z",
     "start_time": "2023-11-19T08:13:36.749096300Z"
    }
   },
   "id": "d4e5681649998023"
  },
  {
   "cell_type": "code",
   "execution_count": 40,
   "outputs": [],
   "source": [
    "# table_6.csv\n",
    "def process_6(data_dir,\n",
    "              src_data='contest_ext_crd_is_sharedebt.csv', tar_data='table_6.csv'):\n",
    "    # table_6\n",
    "    table_6 = pd.read_csv(os.path.join(data_dir, src_data), sep=',')\n",
    "    table_6.columns = [str.lower(i) for i in table_6.columns]\n",
    "    # 值标注\n",
    "    type_dw_dict = {'未销户贷记卡信息汇总': 'DJK', '未结清贷款信息汇总': 'DK',\n",
    "                    '未销户准贷记卡信息汇总': 'ZDJK'}\n",
    "    table_6['type_dw'] = table_6['type_dw'].map(type_dw_dict)\n",
    "    # 子集1\n",
    "    type_dw_dummy = pd.get_dummies(table_6[['report_id', 'type_dw']])\n",
    "    df_type_dw = type_dw_dummy.groupby('report_id').mean()\n",
    "    df_type_dw.columns = ['sharedebt_' + i for i in df_type_dw.columns]\n",
    "    # 子集2\n",
    "    df_continuous_mean = table_6.drop(['type_dw'], axis=1)\n",
    "    df_continuous_mean = df_continuous_mean.groupby('report_id').mean()\n",
    "    ss = StandardScaler()\n",
    "    columns = df_continuous_mean.columns\n",
    "    indexs = df_continuous_mean.index\n",
    "    imr = SimpleImputer(missing_values=np.nan, strategy='mean')\n",
    "    df_continuous_mean = pd.DataFrame(ss.fit_transform(\n",
    "        imr.fit_transform(df_continuous_mean.values)))\n",
    "    df_continuous_mean.columns = columns\n",
    "    df_continuous_mean.index = indexs\n",
    "    # 合并子集\n",
    "    table_6 = pd.merge(df_type_dw, df_continuous_mean,\n",
    "                       left_index=True, right_index=True)\n",
    "    # 保存结果\n",
    "    table_6.to_csv(os.path.join(data_dir, tar_data))"
   ],
   "metadata": {
    "collapsed": false,
    "ExecuteTime": {
     "end_time": "2023-11-19T08:13:36.947096200Z",
     "start_time": "2023-11-19T08:13:36.762098300Z"
    }
   },
   "id": "1cf5b87b05ed8e01"
  },
  {
   "cell_type": "code",
   "execution_count": 41,
   "outputs": [],
   "source": [
    "# table_7.csv\n",
    "def process_7(data_dir,\n",
    "              src_data='contest_ext_crd_is_ovdsummary.csv', tar_data='table_7.csv'):\n",
    "    # table_7\n",
    "    table_7 = pd.read_csv(os.path.join(data_dir, src_data), sep=',')\n",
    "    table_7.columns = [str.lower(i) for i in table_7.columns]\n",
    "    # 值标注\n",
    "    type_dw_dict = {'贷款逾期': 'DQ', '贷记卡逾期': 'DJK',\n",
    "                    '准贷记卡60天以上透支': 'ZDJK'}\n",
    "    table_7['type_dw'] = table_7['type_dw'].map(type_dw_dict)\n",
    "    # 子集1\n",
    "    type_dw_dummy = pd.get_dummies(table_7[['report_id', 'type_dw']])\n",
    "    df_type_dw = type_dw_dummy.groupby('report_id').mean()\n",
    "    df_type_dw.columns = ['ovdsummary_' + i for i in df_type_dw.columns]\n",
    "    # 子集2\n",
    "    df_continuous_mean = table_7.drop(['type_dw'], axis=1)\n",
    "    df_continuous_mean = df_continuous_mean.groupby('report_id').mean()\n",
    "    ss = StandardScaler()\n",
    "    columns = df_continuous_mean.columns\n",
    "    indexs = df_continuous_mean.index\n",
    "    imr = SimpleImputer(missing_values=np.nan, strategy='mean')\n",
    "    df_continuous_mean = pd.DataFrame(ss.fit_transform(\n",
    "        imr.fit_transform(df_continuous_mean.values)))\n",
    "    df_continuous_mean.columns = columns\n",
    "    df_continuous_mean.index = indexs\n",
    "    # 合并子集\n",
    "    table_7 = pd.merge(df_type_dw, df_continuous_mean,\n",
    "                       left_index=True, right_index=True)\n",
    "    # table_7.shape\n",
    "    # 保存结果\n",
    "    table_7.to_csv(os.path.join(data_dir, tar_data))"
   ],
   "metadata": {
    "collapsed": false,
    "ExecuteTime": {
     "end_time": "2023-11-19T08:13:36.947096200Z",
     "start_time": "2023-11-19T08:13:36.782096100Z"
    }
   },
   "id": "f15cc5ca08499972"
  },
  {
   "cell_type": "code",
   "execution_count": 42,
   "outputs": [],
   "source": [
    "# table_8.csv\n",
    "def process_8(data_dir,\n",
    "              src_data='contest_ext_crd_qr_recordsmr.tsv', tar_data='table_8.csv'):\n",
    "    # table_8\n",
    "    table_8 = pd.read_csv(os.path.join(data_dir, src_data), sep='\\t')\n",
    "    table_8.columns = [str.lower(i) for i in table_8.columns]\n",
    "    # 子集1\n",
    "    table_8['type_id'] = table_8.type_id.astype('str')\n",
    "    type_dw_dummy = pd.get_dummies(table_8[['report_id', 'type_id']])\n",
    "    df_query_reason = type_dw_dummy.groupby('report_id').mean()\n",
    "    df_query_reason.columns = ['recordsmr_' +\n",
    "                               i for i in df_query_reason.columns]\n",
    "    # 子集2\n",
    "    df_continuous_mean = table_8.loc[:, ['report_id', 'sum_dw']]\n",
    "    df_continuous_mean = df_continuous_mean.groupby('report_id').mean()\n",
    "    ss = StandardScaler()\n",
    "    columns = df_continuous_mean.columns\n",
    "    indexs = df_continuous_mean.index\n",
    "    imr = SimpleImputer(missing_values=np.nan, strategy='mean')\n",
    "    df_continuous_mean = pd.DataFrame(ss.fit_transform(\n",
    "        imr.fit_transform(df_continuous_mean.values)))\n",
    "    df_continuous_mean.columns = columns\n",
    "    df_continuous_mean.index = indexs\n",
    "    # 合并子集\n",
    "    table_8 = pd.merge(df_query_reason, df_continuous_mean,\n",
    "                       left_index=True, right_index=True)\n",
    "    # 保存结果\n",
    "    table_8.to_csv(os.path.join(data_dir, tar_data))"
   ],
   "metadata": {
    "collapsed": false,
    "ExecuteTime": {
     "end_time": "2023-11-19T08:13:36.947096200Z",
     "start_time": "2023-11-19T08:13:36.797096600Z"
    }
   },
   "id": "d72265e98ea34890"
  },
  {
   "cell_type": "code",
   "execution_count": 43,
   "outputs": [],
   "source": [
    "# table_9.csv\n",
    "def process_9(data_dir,\n",
    "              src_data='contest_ext_crd_qr_recorddtlinfo.tsv', tar_data='table_9.csv'):\n",
    "    # table_9\n",
    "    pass"
   ],
   "metadata": {
    "collapsed": false,
    "ExecuteTime": {
     "end_time": "2023-11-19T08:13:36.948095700Z",
     "start_time": "2023-11-19T08:13:36.811096800Z"
    }
   },
   "id": "33f4919be78c630a"
  },
  {
   "cell_type": "code",
   "execution_count": 44,
   "outputs": [],
   "source": [
    "# table_10.csv\n",
    "def process_10(data_dir,\n",
    "               src_data='contest_ext_crd_cd_ln_spl.tsv', tar_data='table_10.csv'):\n",
    "    # table_10\n",
    "    table_10 = pd.read_csv(os.path.join(data_dir, src_data), sep='\\t')\n",
    "    table_10.columns = [str.lower(i) for i in table_10.columns]\n",
    "    # 值标注\n",
    "    # table_10.type_dw.value_counts()\n",
    "    type_dw_dict = {'提前还款（全部）': '1', '提前还款（部分）': '2', '其他': '3',\n",
    "                    '展期（延期）': '4', '担保人代还 ': '5'}\n",
    "    table_10['type_dw'] = table_10['type_dw'].map(type_dw_dict)\n",
    "    # 子集1\n",
    "    type_dw_dummy = pd.get_dummies(table_10[['report_id', 'type_dw']])\n",
    "    df_type_dw = type_dw_dummy.groupby('report_id').mean()\n",
    "    df_type_dw.columns = ['spl_' + i for i in df_type_dw.columns]\n",
    "    # 子集2\n",
    "    df_continuous_mean = table_10.loc[:, [\n",
    "                                             'report_id', 'changing_months', 'changing_amount']]\n",
    "    df_continuous_mean = df_continuous_mean.groupby('report_id').mean()\n",
    "    ss = StandardScaler()\n",
    "    columns = df_continuous_mean.columns\n",
    "    indexs = df_continuous_mean.index\n",
    "    imr = SimpleImputer(missing_values=np.nan, strategy='mean')\n",
    "    df_continuous_mean = pd.DataFrame(ss.fit_transform(\n",
    "        imr.fit_transform(df_continuous_mean.values)))\n",
    "    df_continuous_mean.columns = columns\n",
    "    df_continuous_mean.index = indexs\n",
    "    # 合并子集\n",
    "    table_10 = pd.merge(df_type_dw, df_continuous_mean,\n",
    "                        left_index=True, right_index=True)\n",
    "    # 保存结果\n",
    "    table_10.to_csv(os.path.join(data_dir, tar_data))"
   ],
   "metadata": {
    "collapsed": false,
    "ExecuteTime": {
     "end_time": "2023-11-19T08:13:36.948095700Z",
     "start_time": "2023-11-19T08:13:36.826097100Z"
    }
   },
   "id": "6923b39dfb517530"
  },
  {
   "cell_type": "code",
   "execution_count": 45,
   "outputs": [],
   "source": [
    "# table_11.csv\n",
    "def process_11(data_dir,\n",
    "               src_data='contest_ext_crd_cd_lnd_ovd.csv', tar_data='table_11.csv'):\n",
    "    # table_11\n",
    "    table_11 = pd.read_csv(os.path.join(data_dir, src_data), sep=',')\n",
    "    table_11.columns = [str.lower(i) for i in table_11.columns]\n",
    "    # 子集\n",
    "    df_continuous_mean = table_11.loc[:, [\n",
    "                                             'report_id', 'last_months', 'amount']]\n",
    "    df_continuous_mean = df_continuous_mean.groupby('report_id').mean()\n",
    "    ss = StandardScaler()\n",
    "    columns = df_continuous_mean.columns\n",
    "    indexs = df_continuous_mean.index\n",
    "    imr = SimpleImputer(missing_values=np.nan, strategy='mean')\n",
    "    df_continuous_mean = pd.DataFrame(ss.fit_transform(\n",
    "        imr.fit_transform(df_continuous_mean.values)))\n",
    "    df_continuous_mean.columns = columns\n",
    "    df_continuous_mean.index = indexs\n",
    "    # 保存结果\n",
    "    df_continuous_mean.to_csv(os.path.join(data_dir, tar_data))"
   ],
   "metadata": {
    "collapsed": false,
    "ExecuteTime": {
     "end_time": "2023-11-19T08:13:36.948095700Z",
     "start_time": "2023-11-19T08:13:36.847096800Z"
    }
   },
   "id": "2ad08dcbc7c261f4"
  },
  {
   "cell_type": "code",
   "execution_count": 46,
   "outputs": [
    {
     "name": "stdout",
     "output_type": "stream",
     "text": [
      "           LOAN_DATE  EDU_LEVEL    SALARY  HAS_FUND  Y  gender  LOAN_DAYS  \\\n",
      "REPORT_ID                                                                   \n",
      "8787      2017-02-15   1.150666 -0.437004       0.0  0       1   2.090720   \n",
      "9410      2017-03-13        NaN  1.683545       1.0  0       0   1.469206   \n",
      "22999     2017-02-27   0.035399  0.269846       0.0  0       1   1.803868   \n",
      "24820     2017-02-24   0.035399 -1.143853       0.0  1       0   1.875581   \n",
      "25708     2017-01-16   0.035399       NaN       1.0  0       0   2.807851   \n",
      "\n",
      "           AGENT_bestpay  AGENT_chinapnr  AGENT_fenqile  ...  \\\n",
      "REPORT_ID                                                ...   \n",
      "8787               False           False          False  ...   \n",
      "9410               False           False          False  ...   \n",
      "22999              False           False          False  ...   \n",
      "24820              False           False          False  ...   \n",
      "25708              False           False          False  ...   \n",
      "\n",
      "           WORK_PROVINCE_53  WORK_PROVINCE_54  WORK_PROVINCE_61  \\\n",
      "REPORT_ID                                                         \n",
      "8787                  False             False             False   \n",
      "9410                  False             False             False   \n",
      "22999                 False             False             False   \n",
      "24820                 False             False             False   \n",
      "25708                 False             False             False   \n",
      "\n",
      "           WORK_PROVINCE_62  WORK_PROVINCE_64  WORK_PROVINCE_65  \\\n",
      "REPORT_ID                                                         \n",
      "8787                  False             False             False   \n",
      "9410                  False             False             False   \n",
      "22999                 False             False             False   \n",
      "24820                 False             False             False   \n",
      "25708                 False             False             False   \n",
      "\n",
      "           MARRY_STATUS_1  MARRY_STATUS_2  MARRY_STATUS_4  MARRY_STATUS_5  \n",
      "REPORT_ID                                                                  \n",
      "8787                False           False           False           False  \n",
      "9410                False           False           False           False  \n",
      "22999               False           False           False           False  \n",
      "24820               False           False           False           False  \n",
      "25708                True           False           False           False  \n",
      "\n",
      "[5 rows x 49 columns]\n",
      "           LOAN_DATE  EDU_LEVEL    SALARY  HAS_FUND  gender  LOAN_DAYS  \\\n",
      "REPORT_ID                                                                \n",
      "7754420   2017-08-11  -1.135394       NaN       1.0       1   0.326090   \n",
      "8709548   2017-09-11        NaN -1.106976       0.0       0  -0.932541   \n",
      "8753538   2017-09-11  -2.266187       NaN       NaN       1  -0.932541   \n",
      "8101125   2017-08-21   1.126191 -0.380269       0.0       1  -0.079920   \n",
      "8572887   2017-09-06   1.126191       NaN       1.0       0  -0.729536   \n",
      "\n",
      "           AGENT_bestpay  AGENT_chinapnr  AGENT_fenqile  AGENT_huifusdb  ...  \\\n",
      "REPORT_ID                                                                ...   \n",
      "7754420            False           False          False           False  ...   \n",
      "8709548            False           False          False           False  ...   \n",
      "8753538            False           False          False           False  ...   \n",
      "8101125            False            True          False           False  ...   \n",
      "8572887            False           False          False           False  ...   \n",
      "\n",
      "           WORK_PROVINCE_54  WORK_PROVINCE_61  WORK_PROVINCE_62  \\\n",
      "REPORT_ID                                                         \n",
      "7754420               False             False             False   \n",
      "8709548               False             False             False   \n",
      "8753538               False             False             False   \n",
      "8101125               False             False             False   \n",
      "8572887               False             False             False   \n",
      "\n",
      "           WORK_PROVINCE_63  WORK_PROVINCE_64  WORK_PROVINCE_65  \\\n",
      "REPORT_ID                                                         \n",
      "7754420               False             False             False   \n",
      "8709548               False             False             False   \n",
      "8753538               False             False             False   \n",
      "8101125               False             False             False   \n",
      "8572887               False             False             False   \n",
      "\n",
      "           MARRY_STATUS_1  MARRY_STATUS_2  MARRY_STATUS_4  MARRY_STATUS_5  \n",
      "REPORT_ID                                                                  \n",
      "7754420              True           False           False           False  \n",
      "8709548             False            True           False           False  \n",
      "8753538             False           False           False           False  \n",
      "8101125             False           False           False           False  \n",
      "8572887             False           False           False           False  \n",
      "\n",
      "[5 rows x 49 columns]\n"
     ]
    }
   ],
   "source": [
    "process(data_dir, src_data='train_data.tsv', tar_data='train_data_process.csv')\n",
    "process(data_dir, src_data='test_data.tsv', tar_data='test_data_process.csv')\n",
    "\n",
    "process_2(data_dir, src_data='contest_ext_crd_hd_report.csv',\n",
    "          tar_data='table_02.csv')\n",
    "process_3(data_dir, src_data='contest_ext_crd_cd_ln.tsv',\n",
    "          tar_data='table_03.csv')\n",
    "process_4(data_dir, src_data='contest_ext_crd_cd_lnd.tsv',\n",
    "          tar_data='table_04.csv')\n",
    "process_5(data_dir, src_data='contest_ext_crd_is_creditcue.csv',\n",
    "          tar_data='table_05.csv')\n",
    "process_6(data_dir, src_data='contest_ext_crd_is_sharedebt.csv',\n",
    "          tar_data='table_06.csv')\n",
    "process_7(data_dir, src_data='contest_ext_crd_is_ovdsummary.csv',\n",
    "          tar_data='table_07.csv')\n",
    "process_8(data_dir, src_data='contest_ext_crd_qr_recordsmr.tsv',\n",
    "          tar_data='table_08.csv')\n",
    "# pass\n",
    "# process_9(data_dir, src_data='contest_ext_crd_qr_recorddtlinfo.tsv', tar_data='table_09.csv')\n",
    "process_10(data_dir, src_data='contest_ext_crd_cd_ln_spl.tsv',\n",
    "           tar_data='table_10.csv')\n",
    "process_11(data_dir, src_data='contest_ext_crd_cd_lnd_ovd.csv',\n",
    "           tar_data='table_11.csv')"
   ],
   "metadata": {
    "collapsed": false,
    "ExecuteTime": {
     "end_time": "2023-11-19T08:13:43.867095100Z",
     "start_time": "2023-11-19T08:13:36.862097600Z"
    }
   },
   "id": "a6cebbbab0ca8c3e"
  },
  {
   "cell_type": "markdown",
   "source": [
    "### 多表合并\n",
    "每张表预处理完毕后，通过report_id属性将table_i.csv合并成一张表train_all.csv"
   ],
   "metadata": {
    "collapsed": false
   },
   "id": "20fe02275a0f3c31"
  },
  {
   "cell_type": "code",
   "execution_count": 47,
   "outputs": [],
   "source": [
    "def merge_tbl(data_dir, src_data='train_data_process.csv', tar_data='train_data'):\n",
    "    \"\"\"\n",
    "    多表合并\n",
    "    :param data_dir: \n",
    "    :param src_data: \n",
    "    :param tar_data: \n",
    "    :return: \n",
    "    \"\"\"\n",
    "    dataset = pd.read_csv(os.path.join(data_dir, src_data), index_col=0)\n",
    "    tbl_list = sorted([tbl_name for tbl_name in os.listdir(\n",
    "        data_dir) if tbl_name.startswith('table')])\n",
    "    for tbl in tbl_list:\n",
    "        try:\n",
    "            tbl = pd.read_csv(os.path.join(data_dir, tbl)\n",
    "                              , index_col=0)\n",
    "            dataset = pd.merge(dataset, tbl, how='left', left_index=True, right_index=True)\n",
    "        except Exception as e:\n",
    "            print(tbl, e, sep='\\n')\n",
    "    \n",
    "    # 观察结果\n",
    "    dataset.head()\n",
    "    dataset.describe()\n",
    "    \n",
    "    dataset.to_csv(os.path.join(data_dir, f'{tar_data}_all.csv'))"
   ],
   "metadata": {
    "collapsed": false,
    "ExecuteTime": {
     "end_time": "2023-11-19T08:13:43.880096500Z",
     "start_time": "2023-11-19T08:13:43.863096Z"
    }
   },
   "id": "d1db8b128a9d2845"
  },
  {
   "cell_type": "code",
   "execution_count": 48,
   "outputs": [],
   "source": [
    "merge_tbl(data_dir, src_data='train_data_process.csv', tar_data='train_data')\n",
    "merge_tbl(data_dir, src_data='test_data_process.csv', tar_data='test_data')"
   ],
   "metadata": {
    "collapsed": false,
    "ExecuteTime": {
     "end_time": "2023-11-19T08:13:48.445097500Z",
     "start_time": "2023-11-19T08:13:43.876097500Z"
    }
   },
   "id": "4ccc0f02cf5a79bb"
  },
  {
   "cell_type": "code",
   "execution_count": 49,
   "outputs": [],
   "source": [
    "def process_final(data_dir, src_data='train_data_process.csv', tar_data='train_data'):\n",
    "    \"\"\"\n",
    "    最终处理\n",
    "    合并完毕后，将对合并的数据进行最终的预处理，包括去除空值、去除非重要信息。\n",
    "    :param data_dir: \n",
    "    :param src_data: \n",
    "    :param tar_data: \n",
    "    :return: \n",
    "    \"\"\"\n",
    "    dataset = pd.read_csv(os.path.join(data_dir, src_data), index_col=0)\n",
    "    dataset = dataset.drop(['LOAN_DATE'], axis=1)\n",
    "    dataset = dataset.dropna(axis=1, how='all')\n",
    "    columns = dataset.columns\n",
    "    imr = SimpleImputer(missing_values=np.nan, strategy='mean')\n",
    "    dataset = pd.DataFrame(imr.fit_transform(dataset.values))\n",
    "    dataset.columns = columns\n",
    "    dataset.to_csv(os.path.join(data_dir, f'{tar_data}_final.csv'))"
   ],
   "metadata": {
    "collapsed": false,
    "ExecuteTime": {
     "end_time": "2023-11-19T08:13:48.460095700Z",
     "start_time": "2023-11-19T08:13:48.445097500Z"
    }
   },
   "id": "7ffa51b13b6201c5"
  },
  {
   "cell_type": "code",
   "execution_count": 50,
   "outputs": [],
   "source": [
    "process_final(data_dir, src_data='train_data_process.csv', tar_data='train_data')\n",
    "process_final(data_dir, src_data='test_data_process.csv', tar_data='test_data')"
   ],
   "metadata": {
    "collapsed": false,
    "ExecuteTime": {
     "end_time": "2023-11-19T08:13:49.486096Z",
     "start_time": "2023-11-19T08:13:48.462097600Z"
    }
   },
   "id": "8c93dcc4889f4783"
  },
  {
   "cell_type": "markdown",
   "source": [
    "## 构建模型"
   ],
   "metadata": {
    "collapsed": false
   },
   "id": "ea3427f1db40b5b1"
  },
  {
   "cell_type": "markdown",
   "source": [
    "### Logistic 回归模型\n",
    "Logistic回归模型在两分类问题中具有非常广泛的应用，它能将待分类样本的类别分成两类，是该模型的核心是通过Sigmoid函数将因变量的值转换成概率。但该模型在分类的精准度上有一定欠缺，容易产生过拟合的现象。同时，Logistic回归模型通常用来处理两分类问题，不能很好地处理多分类的情况。而对贷款违约行为进行预测正是贷款是否逾期的两分类问题，比较适合Logistic回归模型处理。"
   ],
   "metadata": {
    "collapsed": false
   },
   "id": "fe3b6aa3b391f7a"
  },
  {
   "cell_type": "code",
   "execution_count": 51,
   "outputs": [],
   "source": [
    "from sklearn.model_selection import train_test_split\n",
    "from imblearn.combine import SMOTETomek\n",
    "from collections import Counter\n",
    "from sklearn.feature_selection import SelectFromModel\n",
    "from sklearn.linear_model import LogisticRegression"
   ],
   "metadata": {
    "collapsed": false,
    "ExecuteTime": {
     "end_time": "2023-11-19T08:13:49.502098100Z",
     "start_time": "2023-11-19T08:13:49.488098Z"
    }
   },
   "id": "b257d5f0341d4d8f"
  },
  {
   "cell_type": "code",
   "execution_count": 52,
   "outputs": [],
   "source": [
    "src_dir = r'dataset'\n",
    "data_dir = os.path.join(src_dir, '原始数据')"
   ],
   "metadata": {
    "collapsed": false,
    "ExecuteTime": {
     "end_time": "2023-11-19T08:13:49.534122500Z",
     "start_time": "2023-11-19T08:13:49.504098400Z"
    }
   },
   "id": "736320f792cef576"
  },
  {
   "cell_type": "markdown",
   "source": [
    "#### 对应模块\n",
    "- trans_dataset\n",
    "- save_txt\n",
    "- draw_auc\n",
    "- draw_cm"
   ],
   "metadata": {
    "collapsed": false
   },
   "id": "492691ddd75e927b"
  },
  {
   "cell_type": "code",
   "execution_count": 53,
   "outputs": [],
   "source": [
    "from sklearn.metrics import confusion_matrix, accuracy_score\n",
    "from sklearn.metrics import auc, roc_curve"
   ],
   "metadata": {
    "collapsed": false,
    "ExecuteTime": {
     "end_time": "2023-11-19T08:13:49.535122900Z",
     "start_time": "2023-11-19T08:13:49.521096600Z"
    }
   },
   "id": "2e60745101053c85"
  },
  {
   "cell_type": "code",
   "execution_count": 54,
   "outputs": [],
   "source": [
    "def trans_dataset(data_dir, src_data='train_data_final.csv'):\n",
    "    \"\"\"\n",
    "    划分数据\n",
    "    训练集&验证集: train_test_split\n",
    "    测试集: test_data_final\n",
    "    :param data_dir: \n",
    "    :param src_data: \n",
    "    :return: x_train, x_test, y_train, y_test, x_train_st, y_train_st, x_train_st_tiny, x_test_st_tiny\n",
    "    \"\"\"\n",
    "    dataset = pd.read_csv(os.path.join(data_dir, src_data), index_col=0)\n",
    "    X = dataset.drop(['Y'], axis=1).values\n",
    "    Y = np.array(dataset['Y'])\n",
    "    x_train, x_test, y_train, y_test = train_test_split(X, Y, test_size=0.3, random_state=0)\n",
    "\n",
    "    # 非平衡数据处理，旨在获得边界清晰且平衡的数据集\n",
    "    # SMOTE (增加少数类样本) +TOMEK (删除不符合要求的多数类样本)\n",
    "    data_pairs = [(x_train, x_test, y_train, y_test)]\n",
    "    st = SMOTETomek(random_state=0)\n",
    "    x_train_st, y_train_st = st.fit_resample(x_train, y_train)\n",
    "\n",
    "    # 基于重要性权重选择特征的元变换器\n",
    "    sfm = SelectFromModel(LogisticRegression(penalty=\"l1\", solver='liblinear', C=1.0))\n",
    "    sfm.fit(x_train, y_train)\n",
    "    x_train_tiny = sfm.transform(x_train)\n",
    "    x_test_tiny = sfm.transform(x_test)\n",
    "    sfm.fit(x_train_st, y_train_st)\n",
    "    x_train_st_tiny = sfm.transform(x_train_st)\n",
    "    x_test_st_tiny = sfm.transform(x_test)  # shape: (8999，44)\n",
    "    return x_train, x_test, y_train, y_test, x_train_st, y_train_st, x_train_st_tiny, x_test_st_tiny"
   ],
   "metadata": {
    "collapsed": false,
    "ExecuteTime": {
     "end_time": "2023-11-19T08:13:49.548149100Z",
     "start_time": "2023-11-19T08:13:49.538124800Z"
    }
   },
   "id": "f1938350e4f8f15"
  },
  {
   "cell_type": "code",
   "execution_count": 55,
   "outputs": [],
   "source": [
    "def save_txt(x_test_st_tiny, y_test, y_pred, y_proba, src_dir, txt_name='GaussianNB.txt'):\n",
    "    \"\"\"\n",
    "    保存txt文件\n",
    "    :param x_test_st_tiny: \n",
    "    :param y_test: \n",
    "    :param y_pred: \n",
    "    :param y_proba: \n",
    "    :param src_dir: \n",
    "    :param txt_name: \n",
    "    :return: save file\n",
    "    \"\"\"\n",
    "    col = np.arange(x_test_st_tiny.shape[0])\n",
    "    np.savetxt(fname=os.path.join(src_dir, txt_name),\n",
    "               X=(col, y_test, y_pred, y_proba))\n",
    "    data = np.genfromtxt(fname=os.path.join(src_dir, txt_name))\n",
    "    # 转置\n",
    "    transpose_data = np.transpose(data)\n",
    "    np.savetxt(fname=os.path.join(src_dir, txt_name), X=transpose_data,\n",
    "               fmt=\"%d %d %d %0.10f \", delimiter='\\n', newline=\"\\n\")"
   ],
   "metadata": {
    "collapsed": false,
    "ExecuteTime": {
     "end_time": "2023-11-19T08:13:49.580201900Z",
     "start_time": "2023-11-19T08:13:49.551149700Z"
    }
   },
   "id": "3e081a761b04ab2c"
  },
  {
   "cell_type": "code",
   "execution_count": 56,
   "outputs": [],
   "source": [
    "def draw_auc(y_true, y_proba, title=\"GaussianNB with L1 Penalty\", png_name=\"GaussianNB_auc.png\", lw=2):\n",
    "    \"\"\"\n",
    "    AUC曲线\n",
    "    :param y_true: \n",
    "    :param y_proba: \n",
    "    :param title: \n",
    "    :param png_name: \n",
    "    :param w: \n",
    "    :param lw: \n",
    "    :return: \n",
    "    \"\"\"\n",
    "    fpr, tpr, _ = roc_curve(y_true, y_proba, pos_label=1)\n",
    "    auc_value = auc(fpr, tpr)\n",
    "    plt.figure(figsize=(4, 4))\n",
    "    plt.plot(fpr, tpr, color='darkorange', lw=lw, label=f'ROC curve')\n",
    "    plt.plot([0, 1], [0, 1], color='navy', lw=lw, linestyle='--')\n",
    "    plt.xlim([0.0, 1.0])\n",
    "    plt.ylim([0.0, 1.05])\n",
    "    plt.xlabel('False Positive Rate')\n",
    "    plt.ylabel('True Positive Rate')\n",
    "    plt.title(f'{title}(area={auc_value:.2%})')\n",
    "    plt.legend(loc=\"lower right\")\n",
    "    plt.savefig(os.path.join(src_dir, png_name), dpi=800)\n",
    "    plt.show()"
   ],
   "metadata": {
    "collapsed": false,
    "ExecuteTime": {
     "end_time": "2023-11-19T08:13:49.580201900Z",
     "start_time": "2023-11-19T08:13:49.567217400Z"
    }
   },
   "id": "cb97ea8cfd160dd"
  },
  {
   "cell_type": "code",
   "execution_count": 57,
   "outputs": [],
   "source": [
    "def draw_cm(y_true, y_pred, title=\"GaussianNB with L1 Penalty\", png_name=\"GaussianNB_cm.png\", labels=[0, 1]):\n",
    "    \"\"\"\n",
    "    混淆矩阵\n",
    "    :param y_true: \n",
    "    :param y_pred: \n",
    "    :param title: \n",
    "    :param png_name: \n",
    "    :param labels: \n",
    "    :return: \n",
    "    \"\"\"\n",
    "    cm = confusion_matrix(y_true, y_pred, labels=labels)\n",
    "    score = accuracy_score(y_true, y_pred)\n",
    "    plt.figure(figsize=(5, 5))\n",
    "    plt.matshow(cm, fignum=0, cmap=plt.cm.Reds)\n",
    "    plt.colorbar()\n",
    "    for x in range(len(cm)):\n",
    "        for y in range(len(cm)):\n",
    "            plt.annotate(cm[x, y], xy=(x, y), fontsize=10.5,\n",
    "                         horizontalalignment='center',\n",
    "                         verticalalignment='center')\n",
    "    plt.xlabel('True Class', fontsize=10.5)\n",
    "    plt.ylabel('Pred class', fontsize=10.5)\n",
    "    plt.title(f\"{title}(score={score:.2%})\", fontsize=12)\n",
    "    plt.savefig(os.path.join(src_dir, png_name))\n",
    "    plt.show()"
   ],
   "metadata": {
    "collapsed": false,
    "ExecuteTime": {
     "end_time": "2023-11-19T08:13:49.594206900Z",
     "start_time": "2023-11-19T08:13:49.582200400Z"
    }
   },
   "id": "f02b77cb8d42f04a"
  },
  {
   "cell_type": "code",
   "execution_count": 58,
   "outputs": [],
   "source": [
    "x_train, x_test, y_train, y_test, \\\n",
    "    x_train_st, y_train_st, x_train_st_tiny, x_test_st_tiny = \\\n",
    "    trans_dataset(data_dir, src_data='train_data_final.csv')\n",
    "\n",
    "model_2 = LogisticRegression(penalty='l1', solver='liblinear', C=1.0)\n",
    "model_2.fit(x_train_st_tiny, y_train_st)\n",
    "y_pred = model_2.predict(x_test_st_tiny)\n",
    "y_proba = model_2.predict_proba(x_test_st_tiny)[:, 1]"
   ],
   "metadata": {
    "collapsed": false,
    "ExecuteTime": {
     "end_time": "2023-11-19T08:13:51.432484400Z",
     "start_time": "2023-11-19T08:13:49.597218100Z"
    }
   },
   "id": "ed54fc10a8c7677a"
  },
  {
   "cell_type": "code",
   "execution_count": 59,
   "outputs": [
    {
     "data": {
      "text/plain": "<Figure size 400x400 with 1 Axes>",
      "image/png": "[encoded data removed]"
     },
     "metadata": {},
     "output_type": "display_data"
    },
    {
     "data": {
      "text/plain": "<Figure size 500x500 with 2 Axes>",
      "image/png": "[encoded data removed]"
     },
     "metadata": {},
     "output_type": "display_data"
    }
   ],
   "source": [
    "save_txt(x_test_st_tiny, y_test, y_pred, y_proba, src_dir, txt_name='LogisticRegression.txt')\n",
    "draw_auc(y_test, y_proba, title=\"LogisticRegression with L1 Penalty\", png_name=\"LogisticRegression_auc.png\")\n",
    "draw_cm(y_test, y_pred, title=\"LogisticRegression with L1 Penalty\", png_name=\"LogisticRegression_cm.png\")"
   ],
   "metadata": {
    "collapsed": false,
    "ExecuteTime": {
     "end_time": "2023-11-19T08:13:52.418486700Z",
     "start_time": "2023-11-19T08:13:51.434484Z"
    }
   },
   "id": "5eafc28c1bc41466"
  },
  {
   "cell_type": "markdown",
   "source": [
    "### 朴素贝叶斯\n",
    "朴素贝叶斯模型假设每个特征对分类变量的影响是独立的，这使得分类的联合条件概率很容易计算。\n",
    "其在信用评估方面得到了广泛的应用。因为在信用评估中，多数变量的属性为标称变量，并且原始数据存在较多的空值，而朴素贝叶斯主要对标称数据进行分析，对空值又不太敏感，因此，选择该分类器对贷款违约行为进行预测。"
   ],
   "metadata": {
    "collapsed": false
   },
   "id": "42d90d7af31791d5"
  },
  {
   "cell_type": "code",
   "execution_count": 60,
   "outputs": [],
   "source": [
    "from sklearn.naive_bayes import GaussianNB"
   ],
   "metadata": {
    "collapsed": false,
    "ExecuteTime": {
     "end_time": "2023-11-19T08:13:52.466486Z",
     "start_time": "2023-11-19T08:13:52.420498Z"
    }
   },
   "id": "8f9458117cac8bca"
  },
  {
   "cell_type": "code",
   "execution_count": 61,
   "outputs": [],
   "source": [
    "model_1 = GaussianNB()\n",
    "model_1.fit(x_train_st_tiny, y_train_st)\n",
    "y_pred = model_1.predict(x_test_st_tiny)\n",
    "y_proba = model_1.predict_proba(x_test_st_tiny)[:, 1]"
   ],
   "metadata": {
    "collapsed": false,
    "ExecuteTime": {
     "end_time": "2023-11-19T08:13:52.509485600Z",
     "start_time": "2023-11-19T08:13:52.436486700Z"
    }
   },
   "id": "adb588b1105ade12"
  },
  {
   "cell_type": "code",
   "execution_count": 62,
   "outputs": [
    {
     "data": {
      "text/plain": "<Figure size 400x400 with 1 Axes>",
      "image/png": "[encoded data removed]"
     },
     "metadata": {},
     "output_type": "display_data"
    },
    {
     "data": {
      "text/plain": "<Figure size 500x500 with 2 Axes>",
      "image/png": "[encoded data removed]"
     },
     "metadata": {},
     "output_type": "display_data"
    }
   ],
   "source": [
    "save_txt(x_test_st_tiny, y_test, y_pred, y_proba, src_dir, txt_name='GaussianNB.txt')\n",
    "draw_auc(y_test, y_proba, title='GaussianNB with L1 Penalty', png_name=\"GaussianNB_auc.png\")\n",
    "draw_cm(y_test, y_pred, title=\"GaussianNB with L1 Penalty\", png_name=\"GaussianNB_cm.png\")"
   ],
   "metadata": {
    "collapsed": false,
    "ExecuteTime": {
     "end_time": "2023-11-19T08:13:53.507496300Z",
     "start_time": "2023-11-19T08:13:52.502484500Z"
    }
   },
   "id": "4aa3f1799a50304d"
  }
 ],
 "metadata": {
  "kernelspec": {
   "display_name": "Python 3",
   "language": "python",
   "name": "python3"
  },
  "language_info": {
   "codemirror_mode": {
    "name": "ipython",
    "version": 2
   },
   "file_extension": ".py",
   "mimetype": "text/x-python",
   "name": "python",
   "nbconvert_exporter": "python",
   "pygments_lexer": "ipython2",
   "version": "2.7.6"
  }
 },
 "nbformat": 4,
 "nbformat_minor": 5
}
